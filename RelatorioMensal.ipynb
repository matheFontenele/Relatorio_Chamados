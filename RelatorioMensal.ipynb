{
  "nbformat": 4,
  "nbformat_minor": 0,
  "metadata": {
    "colab": {
      "provenance": []
    },
    "kernelspec": {
      "name": "python3",
      "display_name": "Python 3"
    },
    "language_info": {
      "name": "python"
    }
  },
  "cells": [
    {
      "cell_type": "markdown",
      "source": [
        "# **Padronização de Ticketes Chamados**"
      ],
      "metadata": {
        "id": "glifwjgEbyw8"
      }
    },
    {
      "cell_type": "code",
      "execution_count": null,
      "metadata": {
        "id": "_025K-NeS8Lz"
      },
      "outputs": [],
      "source": [
        "import pandas as pd"
      ]
    },
    {
      "cell_type": "markdown",
      "source": [
        "# **Import e padronização OTRS**\n",
        "####Feito as seguintes alterações:\n",
        "- Eliminação de colunas irrelevantes para o relatorio\n",
        "- Renomeação de colunas para padronização\n",
        "- Junção com DataFrame de Clientes para concatenar Estado e Municipio"
      ],
      "metadata": {
        "id": "7qNm-USHcTqx"
      }
    },
    {
      "cell_type": "code",
      "source": [
        "#Importação de relatorio OTRS\n",
        "otrs = pd.read_csv('otrs.csv', sep=';')"
      ],
      "metadata": {
        "id": "PlKjdn2rS-4x"
      },
      "execution_count": null,
      "outputs": []
    },
    {
      "cell_type": "code",
      "source": [
        "#Importação de lista de clientes e formatação\n",
        "clientes = pd.read_csv('clientes.csv')\n",
        "clientes = clientes.rename(columns={'Nome':'Cliente'})"
      ],
      "metadata": {
        "id": "sNaafwF2khIk"
      },
      "execution_count": null,
      "outputs": []
    },
    {
      "cell_type": "code",
      "source": [
        "#Eliminação de colunas não utilizadas OTRS\n",
        "otrs = otrs.drop(columns=['Número','Idade', 'Última Alteração', 'Prioridade', 'Serviço', 'SLA', 'Atendente/Proprietário',\n",
        "       'Responsável', 'Tempo Contabilizado', 'EscalationDestinationIn',\n",
        "       'EscalationDestinationDate', 'EscalationTimeWorkingTime',\n",
        "       'Horário de Escalação', 'Primeira Resposta',\n",
        "       'Primeira Resposta em Minutos',\n",
        "       'Diferença de Tempo da Primeira Resposta em Minutos',\n",
        "       'FirstResponseTimeWorkingTime', 'FirstResponseTimeEscalation',\n",
        "       'FirstResponseTimeNotification', 'FirstResponseTimeDestinationTime',\n",
        "       'FirstResponseTimeDestinationDate', 'FirstResponseTime',\n",
        "       'UpdateTimeEscalation', 'UpdateTimeNotification',\n",
        "       'UpdateTimeDestinationTime', 'UpdateTimeDestinationDate',\n",
        "       'UpdateTimeWorkingTime', 'UpdateTime', 'SolutionTime',\n",
        "       'Tempo de solução em minutos', 'Delta de tempo de solução em minutos',\n",
        "       'SolutionTimeWorkingTime', 'SolutionTimeEscalation',\n",
        "       'SolutionTimeNotification', 'SolutionTimeDestinationTime',\n",
        "       'SolutionTimeDestinationDate', 'SolutionTimeWorkingTime.1',\n",
        "       'First Lock', 'Bloquear', 'StateType', 'UntilTime', 'UnlockTimeout',\n",
        "       'EscalationResponseTime', 'EscalationSolutionTime',\n",
        "       'EscalationUpdateTime', 'RealTillTimeNotUsed', 'Número de Artigos',\n",
        "       'Processo', 'Atividade', 'Criticalidade', 'Impacto', 'Veiculo(Placa)',\n",
        "       'Endereço', 'Observações', 'Pausar SLA?', 'Hora de Pausa do SLA',\n",
        "       'Hora de Retomada do SLA', 'Orientação', 'Hora de Fechamento', 'Motivo', 'Solicitante', 'Setor', 'Tombo', 'Titulo'])"
      ],
      "metadata": {
        "id": "0fPdMszzThCG"
      },
      "execution_count": null,
      "outputs": []
    },
    {
      "cell_type": "code",
      "source": [
        "#Renomeando colunas OTRS\n",
        "otrs = otrs.rename(columns={'Ticket#': 'Chamado','Estado' : 'Situação', 'Usuário Cliente' : 'Cliente', 'Tecnico Responsavel' : 'Tecnico'})"
      ],
      "metadata": {
        "id": "KjJs0W9oUKl3"
      },
      "execution_count": null,
      "outputs": []
    },
    {
      "cell_type": "code",
      "source": [
        "#Incluido as colunas Estado e Municipio\n",
        "clientes[\"ID do Cliente\"] = clientes[\"ID do Cliente\"].astype(str).str.strip().str.upper() #Garantindo que o ID Cliente sera string e sem espaços\n",
        "otrs[\"ID do Cliente\"] = otrs[\"ID do Cliente\"].astype(str).str.strip().str.upper()\n",
        "\n",
        "otrs = otrs.merge(\n",
        "    clientes[[\"ID do Cliente\", \"Estado\", \"Municipio\"]],\n",
        "    on=\"ID do Cliente\",\n",
        "    how=\"left\"\n",
        ")"
      ],
      "metadata": {
        "id": "2L8rmwVgnXrT"
      },
      "execution_count": null,
      "outputs": []
    },
    {
      "cell_type": "markdown",
      "source": [
        "##Import e padronização UFSC"
      ],
      "metadata": {
        "id": "naZ3x3CFgtOQ"
      }
    },
    {
      "cell_type": "code",
      "source": [
        "#Importação do relatorio da UFSC\n",
        "ufsc = pd.read_excel('/content/ufsc.xlsx')"
      ],
      "metadata": {
        "id": "iNMWnfNmgyrY",
        "colab": {
          "base_uri": "https://localhost:8080/"
        },
        "outputId": "2c8957e7-874d-4d1f-9427-fd489778ea84"
      },
      "execution_count": null,
      "outputs": [
        {
          "output_type": "execute_result",
          "data": {
            "text/plain": [
              "Index(['Número do Chamado', 'Idade', 'Criado', 'Fechado', 'Primeiro Bloqueio',\n",
              "       'Primeira Resposta', 'Estado', 'Prioridade', 'Fila', 'Bloquear',\n",
              "       'Proprietário', 'PrimeiroNome', 'ÚltimoNome', 'ID do Cliente',\n",
              "       'Nome real do cliente', 'De', 'Assunto', 'Tempo contabilizado',\n",
              "       'Árvore de Artigo', 'Tempo de solução em minutos',\n",
              "       'Delta de tempo de solução em minutos', 'Primeira Resposta em Minutos',\n",
              "       'Diferença de Tempo da Primeira Resposta em Minutos'],\n",
              "      dtype='object')"
            ]
          },
          "metadata": {},
          "execution_count": 687
        }
      ]
    },
    {
      "cell_type": "code",
      "source": [
        "#Eliminação de colunas UFSC\n",
        "ufsc = ufsc.drop(columns=['Idade','Fechado', 'Primeiro Bloqueio',\n",
        "       'Primeira Resposta', 'Prioridade','Bloquear',\n",
        "       'Proprietário', 'PrimeiroNome', 'Tempo contabilizado',\n",
        "       'Árvore de Artigo', 'Tempo de solução em minutos',\n",
        "       'Delta de tempo de solução em minutos', 'Primeira Resposta em Minutos',\n",
        "       'Diferença de Tempo da Primeira Resposta em Minutos', 'De', 'Assunto'])"
      ],
      "metadata": {
        "id": "LvmpwVxYikCC"
      },
      "execution_count": null,
      "outputs": []
    },
    {
      "cell_type": "code",
      "source": [
        "#Renomeia colunas UFSC\n",
        "ufsc = ufsc.rename(columns={'Número do Chamado': 'Chamado', 'Nome real do cliente' : 'Cliente', 'ÚltimoNome' : 'Tecnico', 'Estado' : 'Situação'})\n",
        "ufsc['Estado'] = 'SC'\n",
        "ufsc['Municipio'] = ''"
      ],
      "metadata": {
        "id": "qckRzAT4kNsq"
      },
      "execution_count": null,
      "outputs": []
    },
    {
      "cell_type": "markdown",
      "source": [
        "##Padronização chamados MCTI"
      ],
      "metadata": {
        "id": "GaeQ2mZqkyIH"
      }
    },
    {
      "cell_type": "code",
      "source": [
        "#Importação de relatorio do MCTI\n",
        "mcti = pd.read_csv('mcti.csv', sep=';', encoding='latin-1')"
      ],
      "metadata": {
        "id": "CQMw61Dbk6mG",
        "colab": {
          "base_uri": "https://localhost:8080/"
        },
        "outputId": "32c4d2c8-fff2-429e-826f-96b3f1e662bc"
      },
      "execution_count": null,
      "outputs": [
        {
          "output_type": "execute_result",
          "data": {
            "text/plain": [
              "Index(['id Solicitacao Servico', 'Serviço', 'Atividade (Ticket)', 'Tipo',\n",
              "       'Solicitante', 'Criador', 'Data/hora abertura', 'Data/Hora captura',\n",
              "       'Tempo Captura', 'Prazo captura (SLA)', 'Tempo Atend.', 'Descrição',\n",
              "       'Solução/Resposta', 'Situação', 'Data/Hora limite', 'Grupo',\n",
              "       'Data/hora encerramento', 'Responsável atual', 'Origem do contato',\n",
              "       'Data e Hora da suspensão', 'Data e Hora da reativação', 'Impacto',\n",
              "       'Urgência', 'Causa', 'Detalhamento da causa', 'Categoria Solução',\n",
              "       'Contrato', 'SLA', 'Prioridade', 'Tempo de atraso do SLA', 'Dentro SLA',\n",
              "       'Tempo de atendimento', 'Localidade Física', 'Lista IC',\n",
              "       'Telefone do Solicitante', 'Ramal', 'E-mail', 'Unidade',\n",
              "       'Justificativa SLA vencido', 'Catálogo',\n",
              "       'Solicitacao Pai [Relacionada]', 'Solicitacao Pai [Sub-Solicitação]',\n",
              "       'Quantidade de Anexos'],\n",
              "      dtype='object')"
            ]
          },
          "metadata": {},
          "execution_count": 691
        }
      ]
    },
    {
      "cell_type": "code",
      "source": [
        "#Eliminação de colunas MCTI\n",
        "mcti = mcti.drop(columns=['Serviço', 'Atividade (Ticket)', 'Tipo',\n",
        "       'Solicitante', 'Data/Hora captura',\n",
        "       'Tempo Captura', 'Prazo captura (SLA)', 'Tempo Atend.', 'Descrição',\n",
        "       'Solução/Resposta', 'Data/Hora limite', 'Grupo',\n",
        "       'Data/hora encerramento', 'Origem do contato',\n",
        "       'Data e Hora da suspensão', 'Data e Hora da reativação', 'Impacto',\n",
        "       'Urgência', 'Causa', 'Detalhamento da causa', 'Categoria Solução',\n",
        "       'Contrato', 'SLA', 'Prioridade', 'Tempo de atraso do SLA', 'Dentro SLA',\n",
        "       'Tempo de atendimento', 'Localidade Física', 'Lista IC',\n",
        "       'Telefone do Solicitante', 'Ramal', 'E-mail', 'Unidade',\n",
        "       'Justificativa SLA vencido', 'Catálogo',\n",
        "       'Solicitacao Pai [Relacionada]', 'Solicitacao Pai [Sub-Solicitação]',\n",
        "       'Quantidade de Anexos'])"
      ],
      "metadata": {
        "id": "mqmjRCzylh5G"
      },
      "execution_count": null,
      "outputs": []
    },
    {
      "cell_type": "code",
      "source": [
        "# Renomear colunas MCTI\n",
        "mcti = mcti.rename(columns={\n",
        "    'id Solicitacao Servico': 'Chamado',\n",
        "    'Responsável atual': 'Tecnico',\n",
        "    'Criador': 'Cliente',\n",
        "    'Data/hora abertura' : 'Criado'\n",
        "})\n",
        "\n",
        "# Adicionar colunas fixas\n",
        "mcti['Fila'] = 'MCTI'\n",
        "mcti['ID do Cliente'] = 'MCTI'\n",
        "mcti['Estado'] = 'DF'\n",
        "mcti['Municipio'] = 'Brasilia'"
      ],
      "metadata": {
        "id": "SgBOoCqlmjjt"
      },
      "execution_count": null,
      "outputs": []
    },
    {
      "cell_type": "markdown",
      "source": [],
      "metadata": {
        "id": "yRdHpdUZl-_X"
      }
    },
    {
      "cell_type": "markdown",
      "source": [
        "##Junção das planilhas"
      ],
      "metadata": {
        "id": "QGC6uFn2qmWn"
      }
    },
    {
      "cell_type": "code",
      "source": [
        "#Padronização de colunas e organização para relatorio final\n",
        "otrs = otrs[['Chamado', 'Criado', 'Fila', 'Situação', 'Cliente', 'ID do Cliente', 'Tecnico', 'Estado', 'Municipio']]\n",
        "mcti = mcti[['Chamado', 'Criado', 'Fila', 'Situação', 'Cliente', 'ID do Cliente', 'Tecnico', 'Estado', 'Municipio']]\n",
        "ufsc = ufsc[['Chamado', 'Criado', 'Fila', 'Situação', 'Cliente', 'ID do Cliente', 'Tecnico', 'Estado', 'Municipio']]\n",
        "\n",
        "# Converter coluna 'Criado' para datetime\n",
        "otrs['Criado'] = pd.to_datetime(otrs['Criado'], errors='coerce')\n",
        "ufsc['Criado'] = pd.to_datetime(ufsc['Criado'], errors='coerce')\n",
        "\n",
        "# Formatar para 'dd/mm/yyyy HH:MM:SS'\n",
        "otrs['Criado'] = otrs['Criado'].dt.strftime('%d/%m/%Y %H:%M:%S')\n",
        "ufsc['Criado'] = ufsc['Criado'].dt.strftime('%d/%m/%Y %H:%M:%S')\n",
        "\n",
        "#Concatenação de dataframes\n",
        "relatorio_final = pd.concat([otrs, mcti, ufsc], ignore_index=True)\n",
        "\n",
        "#Renomeação de Situação divergentes para padrão \"Fechado\" e \"Aberto\"\n",
        "relatorio_final[\"Situação\"] = relatorio_final[\"Situação\"].replace([\"fechado com êxito\", \"Fechado com êxito\"], \"Fechado\")\n",
        "relatorio_final[\"Situação\"] = relatorio_final[\"Situação\"].replace(\"open\", \"Aberto\")\n",
        "\n",
        "# Ordenar por data do mais antigo ao mais recente\n",
        "relatorio_final = relatorio_final.sort_values(by=\"Criado\", ascending=True).reset_index(drop=True)\n"
      ],
      "metadata": {
        "id": "HVGfDqLLqkuU"
      },
      "execution_count": null,
      "outputs": []
    },
    {
      "cell_type": "code",
      "source": [
        "#Geração em arquivo csv\n",
        "relatorio_final.to_csv('relatorio.csv', index=False)"
      ],
      "metadata": {
        "id": "1WOF1kTqq_Ck"
      },
      "execution_count": null,
      "outputs": []
    }
  ]
}